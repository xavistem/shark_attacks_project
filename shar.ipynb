{
 "cells": [
  {
   "cell_type": "code",
   "execution_count": 1,
   "id": "48d36ee8",
   "metadata": {},
   "outputs": [],
   "source": [
    "import pandas as pd"
   ]
  },
  {
   "cell_type": "code",
   "execution_count": 2,
   "id": "6f6a9f64",
   "metadata": {},
   "outputs": [],
   "source": [
    "df = pd.read_excel(\"GSAF5.xls\")"
   ]
  },
  {
   "cell_type": "code",
   "execution_count": 3,
   "id": "2c68ff57",
   "metadata": {},
   "outputs": [
    {
     "data": {
      "text/html": [
       "<div>\n",
       "<style scoped>\n",
       "    .dataframe tbody tr th:only-of-type {\n",
       "        vertical-align: middle;\n",
       "    }\n",
       "\n",
       "    .dataframe tbody tr th {\n",
       "        vertical-align: top;\n",
       "    }\n",
       "\n",
       "    .dataframe thead th {\n",
       "        text-align: right;\n",
       "    }\n",
       "</style>\n",
       "<table border=\"1\" class=\"dataframe\">\n",
       "  <thead>\n",
       "    <tr style=\"text-align: right;\">\n",
       "      <th></th>\n",
       "      <th>Date</th>\n",
       "      <th>Year</th>\n",
       "      <th>Type</th>\n",
       "      <th>Country</th>\n",
       "      <th>State</th>\n",
       "      <th>Location</th>\n",
       "      <th>Activity</th>\n",
       "      <th>Name</th>\n",
       "      <th>Sex</th>\n",
       "      <th>Age</th>\n",
       "      <th>...</th>\n",
       "      <th>Species</th>\n",
       "      <th>Source</th>\n",
       "      <th>pdf</th>\n",
       "      <th>href formula</th>\n",
       "      <th>href</th>\n",
       "      <th>Case Number</th>\n",
       "      <th>Case Number.1</th>\n",
       "      <th>original order</th>\n",
       "      <th>Unnamed: 21</th>\n",
       "      <th>Unnamed: 22</th>\n",
       "    </tr>\n",
       "  </thead>\n",
       "  <tbody>\n",
       "    <tr>\n",
       "      <th>0</th>\n",
       "      <td>2025-04-19 00:00:00</td>\n",
       "      <td>2025.0</td>\n",
       "      <td>Unprovoked</td>\n",
       "      <td>Maldives</td>\n",
       "      <td>Kulhudhuffushi City</td>\n",
       "      <td>Haa Dhaalu atoll</td>\n",
       "      <td>snorkeling</td>\n",
       "      <td>Unknown Male</td>\n",
       "      <td>M</td>\n",
       "      <td>30</td>\n",
       "      <td>...</td>\n",
       "      <td>Not stated</td>\n",
       "      <td>Todd Smith: The edition: https://en.sun.mv/96031</td>\n",
       "      <td>NaN</td>\n",
       "      <td>NaN</td>\n",
       "      <td>NaN</td>\n",
       "      <td>NaN</td>\n",
       "      <td>NaN</td>\n",
       "      <td>NaN</td>\n",
       "      <td>NaN</td>\n",
       "      <td>NaN</td>\n",
       "    </tr>\n",
       "    <tr>\n",
       "      <th>1</th>\n",
       "      <td>2025-04-12 00:00:00</td>\n",
       "      <td>2025.0</td>\n",
       "      <td>Unprovoked</td>\n",
       "      <td>USA</td>\n",
       "      <td>Florida</td>\n",
       "      <td>Everglades National Park Flamingo Lodge Highwa...</td>\n",
       "      <td>Undisclosed</td>\n",
       "      <td>Unknown Male</td>\n",
       "      <td>M</td>\n",
       "      <td>?</td>\n",
       "      <td>...</td>\n",
       "      <td>Not stated</td>\n",
       "      <td>Kevin McMurray Trackingsharks.com: Florida New...</td>\n",
       "      <td>NaN</td>\n",
       "      <td>NaN</td>\n",
       "      <td>NaN</td>\n",
       "      <td>NaN</td>\n",
       "      <td>NaN</td>\n",
       "      <td>NaN</td>\n",
       "      <td>NaN</td>\n",
       "      <td>NaN</td>\n",
       "    </tr>\n",
       "    <tr>\n",
       "      <th>2</th>\n",
       "      <td>2025-03-26 00:00:00</td>\n",
       "      <td>2025.0</td>\n",
       "      <td>Unprovoked</td>\n",
       "      <td>Australia</td>\n",
       "      <td>WA</td>\n",
       "      <td>Sandtrax Port Beach North Fremantle Perth</td>\n",
       "      <td>Swimming</td>\n",
       "      <td>Unknown Male</td>\n",
       "      <td>M</td>\n",
       "      <td>30+</td>\n",
       "      <td>...</td>\n",
       "      <td>1.5m Tiger shark</td>\n",
       "      <td>Kevin McMurray Trackingsharks.com: www.surfer....</td>\n",
       "      <td>NaN</td>\n",
       "      <td>NaN</td>\n",
       "      <td>NaN</td>\n",
       "      <td>NaN</td>\n",
       "      <td>NaN</td>\n",
       "      <td>NaN</td>\n",
       "      <td>NaN</td>\n",
       "      <td>NaN</td>\n",
       "    </tr>\n",
       "    <tr>\n",
       "      <th>3</th>\n",
       "      <td>2025-03-10 00:00:00</td>\n",
       "      <td>2025.0</td>\n",
       "      <td>Unprovoked</td>\n",
       "      <td>Australia</td>\n",
       "      <td>WA</td>\n",
       "      <td>Duke of Orleans Bay</td>\n",
       "      <td>Surfing</td>\n",
       "      <td>Steven Jeffrey Payne</td>\n",
       "      <td>M</td>\n",
       "      <td>37</td>\n",
       "      <td>...</td>\n",
       "      <td>Great White Shark</td>\n",
       "      <td>Bob Myatt</td>\n",
       "      <td>NaN</td>\n",
       "      <td>NaN</td>\n",
       "      <td>NaN</td>\n",
       "      <td>NaN</td>\n",
       "      <td>NaN</td>\n",
       "      <td>NaN</td>\n",
       "      <td>NaN</td>\n",
       "      <td>NaN</td>\n",
       "    </tr>\n",
       "    <tr>\n",
       "      <th>4</th>\n",
       "      <td>2025-03-07 00:00:00</td>\n",
       "      <td>2025.0</td>\n",
       "      <td>Unprovoked</td>\n",
       "      <td>Australia</td>\n",
       "      <td>NSW</td>\n",
       "      <td>Gunyah beach Bundeena Port Hacking</td>\n",
       "      <td>Swimming</td>\n",
       "      <td>Mangyong Zhang</td>\n",
       "      <td>F</td>\n",
       "      <td>56</td>\n",
       "      <td>...</td>\n",
       "      <td>Bull shark</td>\n",
       "      <td>Bob Myatt</td>\n",
       "      <td>NaN</td>\n",
       "      <td>NaN</td>\n",
       "      <td>NaN</td>\n",
       "      <td>NaN</td>\n",
       "      <td>NaN</td>\n",
       "      <td>NaN</td>\n",
       "      <td>NaN</td>\n",
       "      <td>NaN</td>\n",
       "    </tr>\n",
       "  </tbody>\n",
       "</table>\n",
       "<p>5 rows × 23 columns</p>\n",
       "</div>"
      ],
      "text/plain": [
       "                  Date    Year        Type    Country                State  \\\n",
       "0  2025-04-19 00:00:00  2025.0  Unprovoked   Maldives  Kulhudhuffushi City   \n",
       "1  2025-04-12 00:00:00  2025.0  Unprovoked        USA              Florida   \n",
       "2  2025-03-26 00:00:00  2025.0  Unprovoked  Australia                   WA   \n",
       "3  2025-03-10 00:00:00  2025.0  Unprovoked  Australia                   WA   \n",
       "4  2025-03-07 00:00:00  2025.0  Unprovoked  Australia                  NSW   \n",
       "\n",
       "                                            Location     Activity  \\\n",
       "0                                   Haa Dhaalu atoll   snorkeling   \n",
       "1  Everglades National Park Flamingo Lodge Highwa...  Undisclosed   \n",
       "2          Sandtrax Port Beach North Fremantle Perth     Swimming   \n",
       "3                                Duke of Orleans Bay      Surfing   \n",
       "4                 Gunyah beach Bundeena Port Hacking     Swimming   \n",
       "\n",
       "                   Name Sex  Age  ...           Species   \\\n",
       "0          Unknown Male   M   30  ...         Not stated   \n",
       "1          Unknown Male   M    ?  ...         Not stated   \n",
       "2          Unknown Male   M  30+  ...   1.5m Tiger shark   \n",
       "3  Steven Jeffrey Payne   M   37  ...  Great White Shark   \n",
       "4        Mangyong Zhang  F    56  ...         Bull shark   \n",
       "\n",
       "                                              Source  pdf href formula href  \\\n",
       "0   Todd Smith: The edition: https://en.sun.mv/96031  NaN          NaN  NaN   \n",
       "1  Kevin McMurray Trackingsharks.com: Florida New...  NaN          NaN  NaN   \n",
       "2  Kevin McMurray Trackingsharks.com: www.surfer....  NaN          NaN  NaN   \n",
       "3                                          Bob Myatt  NaN          NaN  NaN   \n",
       "4                                          Bob Myatt  NaN          NaN  NaN   \n",
       "\n",
       "  Case Number Case Number.1 original order Unnamed: 21 Unnamed: 22  \n",
       "0         NaN           NaN            NaN         NaN         NaN  \n",
       "1         NaN           NaN            NaN         NaN         NaN  \n",
       "2         NaN           NaN            NaN         NaN         NaN  \n",
       "3         NaN           NaN            NaN         NaN         NaN  \n",
       "4         NaN           NaN            NaN         NaN         NaN  \n",
       "\n",
       "[5 rows x 23 columns]"
      ]
     },
     "execution_count": 3,
     "metadata": {},
     "output_type": "execute_result"
    }
   ],
   "source": [
    "df.head()"
   ]
  },
  {
   "cell_type": "code",
   "execution_count": 4,
   "id": "b453b42e",
   "metadata": {},
   "outputs": [
    {
     "data": {
      "text/plain": [
       "Date              6057\n",
       "Year               261\n",
       "Type                12\n",
       "Country            242\n",
       "State              926\n",
       "Location          4570\n",
       "Activity          1604\n",
       "Name              5742\n",
       "Sex                 10\n",
       "Age                249\n",
       "Injury            4139\n",
       "Fatal Y/N           12\n",
       "Time               444\n",
       "Species           1712\n",
       "Source            5356\n",
       "pdf               6789\n",
       "href formula      6784\n",
       "href              6776\n",
       "Case Number       6777\n",
       "Case Number.1     6775\n",
       "original order    6797\n",
       "Unnamed: 21          1\n",
       "Unnamed: 22          2\n",
       "dtype: int64"
      ]
     },
     "execution_count": 4,
     "metadata": {},
     "output_type": "execute_result"
    }
   ],
   "source": [
    "df.nunique()"
   ]
  },
  {
   "cell_type": "code",
   "execution_count": 5,
   "id": "fcbd67b8",
   "metadata": {},
   "outputs": [],
   "source": [
    "df = df.drop(columns=[\"Unnamed: 21\", \"Unnamed: 22\"])"
   ]
  },
  {
   "cell_type": "code",
   "execution_count": 6,
   "id": "65ae66fb",
   "metadata": {},
   "outputs": [
    {
     "name": "stdout",
     "output_type": "stream",
     "text": [
      "['M' 'F ' 'F' 'M ' nan ' M' 'm' 'lli' 'M x 2' 'N' '.']\n"
     ]
    }
   ],
   "source": [
    "print(df['Sex'].unique())"
   ]
  },
  {
   "cell_type": "code",
   "execution_count": 17,
   "id": "775c0bb5",
   "metadata": {},
   "outputs": [
    {
     "data": {
      "text/plain": [
       "Sex\n",
       "M          5632\n",
       "F           799\n",
       "UNKNOWN       2\n",
       "Name: count, dtype: int64"
      ]
     },
     "execution_count": 17,
     "metadata": {},
     "output_type": "execute_result"
    }
   ],
   "source": [
    "df.value_counts('Sex')"
   ]
  },
  {
   "cell_type": "code",
   "execution_count": 14,
   "id": "9524defd",
   "metadata": {},
   "outputs": [],
   "source": [
    "df[\"Sex\"] = df[\"Sex\"].str.upper()"
   ]
  },
  {
   "cell_type": "code",
   "execution_count": 16,
   "id": "0cf2f3ea",
   "metadata": {},
   "outputs": [],
   "source": [
    "df[\"Sex\"] = df[\"Sex\"].replace({'m ': 'm', 'n': 'm', ' m': 'm', 'f ': 'f', 'm x 2': 'm', '.': 'unknown', 'lli': 'unknown'})"
   ]
  },
  {
   "cell_type": "code",
   "execution_count": 23,
   "id": "ae1e68a2",
   "metadata": {},
   "outputs": [
    {
     "data": {
      "text/plain": [
       "Fatal Y/N\n",
       "N          4896\n",
       "Y          1483\n",
       "UNKNOWN      71\n",
       "Name: count, dtype: int64"
      ]
     },
     "execution_count": 23,
     "metadata": {},
     "output_type": "execute_result"
    }
   ],
   "source": [
    "df.value_counts('Fatal Y/N')"
   ]
  },
  {
   "cell_type": "code",
   "execution_count": 26,
   "id": "b08f9dc6",
   "metadata": {},
   "outputs": [],
   "source": [
    "df[\"Fatal Y/N\"] = df[\"Fatal Y/N\"].str.upper()"
   ]
  },
  {
   "cell_type": "code",
   "execution_count": 22,
   "id": "1f7fc717",
   "metadata": {},
   "outputs": [],
   "source": [
    "df[\"Fatal Y/N\"] = df[\"Fatal Y/N\"].replace({' N':'N','F':'Y', 'M':'N','N ':'N','NQ':'N','Y X 2':'Y'})"
   ]
  },
  {
   "cell_type": "code",
   "execution_count": 29,
   "id": "322d6e73",
   "metadata": {},
   "outputs": [
    {
     "data": {
      "text/plain": [
       "Type\n",
       "Unprovoked      5170\n",
       "Provoked         639\n",
       "Invalid          552\n",
       "Watercraft       355\n",
       "Sea Disaster     242\n",
       "Questionable      29\n",
       "Boat               7\n",
       "Name: count, dtype: int64"
      ]
     },
     "execution_count": 29,
     "metadata": {},
     "output_type": "execute_result"
    }
   ],
   "source": [
    "df.value_counts('Type')"
   ]
  },
  {
   "cell_type": "code",
   "execution_count": 28,
   "id": "83500263",
   "metadata": {},
   "outputs": [],
   "source": [
    "df['Type']=df['Type'].replace({\n",
    "    ' Provoked':'Provoked','?':'Questionable','Unconfirmed':'Questionable',\n",
    "    'Under investigation':'Questionable','Unverified':'Questionable'})"
   ]
  },
  {
   "cell_type": "code",
   "execution_count": 30,
   "id": "e8fde928",
   "metadata": {},
   "outputs": [
    {
     "name": "stdout",
     "output_type": "stream",
     "text": [
      "['N' 'Y' nan 'UNKNOWN']\n",
      "['Unprovoked' 'Questionable' 'Provoked' 'Watercraft' 'Sea Disaster' nan\n",
      " 'Invalid' 'Boat']\n",
      "[2025. 2024. 2026. 2023. 2022. 2021. 2020. 2019. 2018. 2017.   nan 2016.\n",
      " 2015. 2014. 2013. 2012. 2011. 2010. 2009. 2008. 2007. 2006. 2005. 2004.\n",
      " 2003. 2002. 2001. 2000. 1999. 1998. 1997. 1996. 1995. 1984. 1994. 1993.\n",
      " 1992. 1991. 1990. 1989. 1969. 1988. 1987. 1986. 1985. 1983. 1982. 1981.\n",
      " 1980. 1979. 1978. 1977. 1976. 1975. 1974. 1973. 1972. 1971. 1970. 1968.\n",
      " 1967. 1966. 1965. 1964. 1963. 1962. 1961. 1960. 1959. 1958. 1957. 1956.\n",
      " 1955. 1954. 1953. 1952. 1951. 1950. 1949. 1948. 1848. 1947. 1946. 1945.\n",
      " 1944. 1943. 1942. 1941. 1940. 1939. 1938. 1937. 1936. 1935. 1934. 1933.\n",
      " 1932. 1931. 1930. 1929. 1928. 1927. 1926. 1925. 1924. 1923. 1922. 1921.\n",
      " 1920. 1919. 1918. 1917. 1916. 1915. 1914. 1913. 1912. 1911. 1910. 1909.\n",
      " 1908. 1907. 1906. 1905. 1904. 1903. 1902. 1901. 1900. 1899. 1898. 1897.\n",
      " 1896. 1895. 1894. 1893. 1892. 1891. 1890. 1889. 1888. 1887. 1886. 1885.\n",
      " 1884. 1883. 1882. 1881. 1880. 1879. 1878. 1877. 1876. 1875. 1874. 1873.\n",
      " 1872. 1871. 1870. 1869. 1868. 1867. 1866. 1865. 1864. 1863. 1862. 1861.\n",
      " 1860. 1859. 1858. 1857. 1856. 1855. 1853. 1852. 1851. 1850. 1849. 1847.\n",
      " 1846. 1845. 1844. 1842. 1841. 1840. 1839. 1837. 1836. 1835. 1834. 1832.\n",
      " 1831. 1830. 1829. 1828. 1827. 1826. 1825. 1823. 1822. 1819. 1818. 1817.\n",
      " 1816. 1815. 1812. 1811. 1810. 1808. 1807. 1805. 1804. 1803. 1802. 1801.\n",
      " 1800. 1797. 1792. 1791. 1788. 1787. 1786. 1785. 1784. 1783. 1780. 1779.\n",
      " 1776. 1771. 1767. 1764. 1758. 1753. 1751. 1749. 1755. 1748. 1742. 1738.\n",
      " 1733. 1723. 1721. 1703. 1700. 1642. 1691. 1640. 1638. 1637. 1617. 1595.\n",
      " 1580. 1555. 1554. 1543. 1518. 1500. 1000.   77.    5.    0.]\n",
      "['M' 'F' nan 'UNKNOWN']\n"
     ]
    }
   ],
   "source": [
    "print(df['Fatal Y/N'].unique())\n",
    "print(df['Type'].unique())\n",
    "print(df['Year'].unique())\n",
    "print(df['Sex'].unique())"
   ]
  },
  {
   "cell_type": "code",
   "execution_count": 33,
   "id": "50d9a077",
   "metadata": {},
   "outputs": [
    {
     "name": "stdout",
     "output_type": "stream",
     "text": [
      "['Maldives' 'USA' 'Australia' 'Philippines' 'Bahamas' 'Turks and Caicos'\n",
      " 'Mozambique' 'New Caledonia' 'Egypt' 'Thailand' 'New Zealand' 'Hawaii'\n",
      " 'Honduras' 'Indonesia' 'Morocco' 'Jamaica' 'Belize' 'Maldive Islands'\n",
      " 'French Polynesia' 'Tobago' 'AUSTRALIA' 'INDIA' 'TRINIDAD' 'BAHAMAS'\n",
      " 'SOUTH AFRICA' 'MEXICO' 'NEW ZEALAND' 'EGYPT' 'Mexico' 'BELIZE'\n",
      " 'PHILIPPINES' 'Coral Sea' 'SPAIN' 'PORTUGAL' 'SAMOA' 'COLOMBIA' 'ECUADOR'\n",
      " 'FRENCH POLYNESIA' 'NEW CALEDONIA' 'TURKS and CaICOS' 'CUBA' 'BRAZIL'\n",
      " 'SEYCHELLES' 'ARGENTINA' 'FIJI' 'MeXICO' 'South Africa' 'ENGLAND' 'JAPAN'\n",
      " 'INDONESIA' 'JAMAICA' 'MALDIVES' 'THAILAND' 'COLUMBIA' 'COSTA RICA'\n",
      " 'British Overseas Territory' 'CANADA' 'JORDAN' 'ST KITTS / NEVIS'\n",
      " 'ST MARTIN' 'PAPUA NEW GUINEA' 'REUNION ISLAND' 'ISRAEL' 'CHINA'\n",
      " 'IRELAND' 'ITALY' 'MALAYSIA' 'LIBYA' nan 'MAURITIUS' 'SOLOMON ISLANDS'\n",
      " 'ST HELENA, British overseas territory' 'COMOROS' 'REUNION'\n",
      " 'UNITED KINGDOM' 'UNITED ARAB EMIRATES' 'CAPE VERDE' 'Fiji'\n",
      " 'DOMINICAN REPUBLIC' 'CAYMAN ISLANDS' 'ARUBA' 'MOZAMBIQUE' 'PUERTO RICO'\n",
      " 'ATLANTIC OCEAN' 'GREECE' 'ST. MARTIN' 'FRANCE' 'TRINIDAD & TOBAGO'\n",
      " 'KIRIBATI' 'DIEGO GARCIA' 'TAIWAN' 'PALESTINIAN TERRITORIES' 'GUAM'\n",
      " 'NIGERIA' 'TONGA' 'SCOTLAND' 'CROATIA' 'SAUDI ARABIA' 'CHILE' 'ANTIGUA'\n",
      " 'KENYA' 'RUSSIA' 'TURKS & CAICOS' 'UNITED ARAB EMIRATES (UAE)' 'AZORES'\n",
      " 'SOUTH KOREA' 'MALTA' 'VIETNAM' 'MADAGASCAR' 'PANAMA' 'SOMALIA' 'NEVIS'\n",
      " 'BRITISH VIRGIN ISLANDS' 'NORWAY' 'SENEGAL' 'YEMEN' 'GULF OF ADEN'\n",
      " 'Sierra Leone' 'ST. MAARTIN' 'GRAND CAYMAN' 'Seychelles' 'LIBERIA'\n",
      " 'VANUATU' 'MEXICO ' 'HONDURAS' 'VENEZUELA' 'SRI LANKA' ' TONGA' 'URUGUAY'\n",
      " 'MICRONESIA' 'CARIBBEAN SEA' 'OKINAWA' 'TANZANIA' 'MARSHALL ISLANDS'\n",
      " 'EGYPT / ISRAEL' 'NORTHERN ARABIAN SEA' 'HONG KONG' 'EL SALVADOR'\n",
      " 'ANGOLA' 'BERMUDA' 'MONTENEGRO' 'IRAN' 'TUNISIA' 'NAMIBIA'\n",
      " 'NORTH ATLANTIC OCEAN' 'SOUTH CHINA SEA' 'BANGLADESH' 'PALAU'\n",
      " 'WESTERN SAMOA' 'PACIFIC OCEAN ' 'BRITISH ISLES' 'GRENADA' 'IRAQ'\n",
      " 'TURKEY' 'SINGAPORE' 'NEW BRITAIN' 'SUDAN' 'JOHNSTON ISLAND'\n",
      " 'SOUTH PACIFIC OCEAN' 'NEW GUINEA' 'RED SEA' 'NORTH PACIFIC OCEAN'\n",
      " 'FEDERATED STATES OF MICRONESIA' 'MID ATLANTIC OCEAN' 'ADMIRALTY ISLANDS'\n",
      " 'BRITISH WEST INDIES' 'SOUTH ATLANTIC OCEAN' 'PERSIAN GULF'\n",
      " 'RED SEA / INDIAN OCEAN' 'PACIFIC OCEAN' 'NORTH SEA' 'NICARAGUA '\n",
      " 'MALDIVE ISLANDS' 'AMERICAN SAMOA' 'ANDAMAN / NICOBAR ISLANDAS' 'GABON'\n",
      " 'MAYOTTE' 'NORTH ATLANTIC OCEAN ' 'THE BALKANS' 'SUDAN?' 'MARTINIQUE'\n",
      " 'INDIAN OCEAN' 'GUATEMALA' 'NETHERLANDS ANTILLES'\n",
      " 'NORTHERN MARIANA ISLANDS' 'IRAN / IRAQ' 'JAVA' 'SIERRA LEONE'\n",
      " ' PHILIPPINES' 'NICARAGUA' 'CENTRAL PACIFIC' 'SOLOMON ISLANDS / VANUATU'\n",
      " 'SOUTHWEST PACIFIC OCEAN' 'BAY OF BENGAL' 'MID-PACIFC OCEAN' 'SLOVENIA'\n",
      " 'CURACAO' 'ICELAND' 'ITALY / CROATIA' 'BARBADOS' 'MONACO' 'GUYANA'\n",
      " 'HAITI' 'SAN DOMINGO' 'KUWAIT' 'YEMEN ' 'FALKLAND ISLANDS' 'CRETE'\n",
      " 'CYPRUS' 'EGYPT ' 'WEST INDIES' 'BURMA' 'LEBANON' 'PARAGUAY'\n",
      " 'BRITISH NEW GUINEA' 'CEYLON' 'OCEAN' 'GEORGIA' 'SYRIA' 'TUVALU'\n",
      " 'INDIAN OCEAN?' 'GUINEA' 'ANDAMAN ISLANDS' 'EQUATORIAL GUINEA / CAMEROON'\n",
      " 'COOK ISLANDS' 'TOBAGO' 'PERU' 'AFRICA' 'ALGERIA' 'Coast of AFRICA'\n",
      " 'TASMAN SEA' 'GHANA' 'GREENLAND' 'MEDITERRANEAN SEA' 'SWEDEN' 'ROATAN'\n",
      " 'Between PORTUGAL & INDIA' 'DJIBOUTI' 'BAHREIN' 'KOREA' 'RED SEA?'\n",
      " 'ASIA?' 'CEYLON (SRI LANKA)']\n"
     ]
    }
   ],
   "source": [
    "print(df['Country'].unique())"
   ]
  }
 ],
 "metadata": {
  "kernelspec": {
   "display_name": "base",
   "language": "python",
   "name": "python3"
  },
  "language_info": {
   "codemirror_mode": {
    "name": "ipython",
    "version": 3
   },
   "file_extension": ".py",
   "mimetype": "text/x-python",
   "name": "python",
   "nbconvert_exporter": "python",
   "pygments_lexer": "ipython3",
   "version": "3.12.7"
  }
 },
 "nbformat": 4,
 "nbformat_minor": 5
}
